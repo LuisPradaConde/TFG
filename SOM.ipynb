{
 "cells": [
  {
   "cell_type": "code",
   "execution_count": 1,
   "id": "53fbfe29",
   "metadata": {
    "slideshow": {
     "slide_type": "skip"
    }
   },
   "outputs": [
    {
     "name": "stderr",
     "output_type": "stream",
     "text": [
      "Intel(R) Extension for Scikit-learn* enabled (https://github.com/intel/scikit-learn-intelex)\n"
     ]
    },
    {
     "data": {
      "text/plain": [
       "78"
      ]
     },
     "execution_count": 1,
     "metadata": {},
     "output_type": "execute_result"
    }
   ],
   "source": [
    "import numpy as np\n",
    "import pandas as pd\n",
    "import sklearn\n",
    "import mglearn\n",
    "from sklearnex  import  patch_sklearn \n",
    "patch_sklearn ()\n",
    "\n",
    "\n",
    "dataset = pd.read_csv('dataset_limpio.csv')\n",
    "dataset = dataset.drop(['Unnamed: 0'], axis=1)\n"
   ]
  },
  {
   "cell_type": "code",
   "execution_count": 8,
   "id": "dcef4c2a",
   "metadata": {},
   "outputs": [
    {
     "name": "stderr",
     "output_type": "stream",
     "text": [
      "Intel(R) Extension for Scikit-learn* enabled (https://github.com/intel/scikit-learn-intelex)\n"
     ]
    }
   ],
   "source": [
    "from sklearnex  import  patch_sklearn \n",
    "patch_sklearn ()\n",
    "from time import time\n",
    "from sklearn.preprocessing import StandardScaler\n",
    "from sklearn.metrics import silhouette_score, davies_bouldin_score, calinski_harabasz_score\n",
    "from sklearn.decomposition import PCA\n",
    "import matplotlib.pyplot as plt\n",
    "from minisom import MiniSom\n",
    "\n",
    "\n",
    "def plot_figure(algoritm,som_shape,data):\n",
    "    \n",
    "    algoritm.train(data, data.shape[0])\n",
    "    \n",
    "    winner_coordinates = np.array([algoritm.winner(x) for x in data]).T\n",
    "    cluster_index = np.ravel_multi_index(winner_coordinates, som_shape)\n",
    "    \n",
    "    n_clusters = len(set(cluster_index)) - (1 if -1 in cluster_index else 0)\n",
    "    \n",
    "\n",
    "    plt.figure(figsize=(8, 5))\n",
    "    plt.scatter(data[:,0], data[:,1], c=cluster_index, linewidths= 0.01, edgecolors='k')\n",
    "    \n",
    "    plt.savefig(\"SOM.pdf\")\n",
    "\n",
    "def bench_marks(algoritm,som_shape, name, data):\n",
    "    \n",
    "    t0 = time()\n",
    "    algoritm.train(data, data.shape[0])\n",
    "    \n",
    "    winner_coordinates = np.array([algoritm.winner(x) for x in data]).T\n",
    "    \n",
    "    cluster_index = np.ravel_multi_index(winner_coordinates, som_shape)\n",
    "    \n",
    "    fit_time = time() - t0\n",
    "    results = [name, fit_time]\n",
    "\n",
    "    results += [silhouette_score(data, cluster_index, metric = 'euclidean')]\n",
    "    results += [davies_bouldin_score(data,cluster_index)]\n",
    "    results += [calinski_harabasz_score(data, cluster_index)]\n",
    "    \n",
    "    n_clusters = len(set(cluster_index)) - (1 if -1 in cluster_index else 0)\n",
    "    results += [n_clusters]\n",
    "    \n",
    "    formatter_result = (\n",
    "        \"{:6s}\\t\\t{:.3f}s\\t{:.3f}\\t\\t{:.3f}\\t\\t{:.2f}\\t\\t{:.0f}\"\n",
    "    )\n",
    "    print(formatter_result.format(*results))"
   ]
  },
  {
   "cell_type": "code",
   "execution_count": null,
   "id": "9028ce9e",
   "metadata": {},
   "outputs": [
    {
     "name": "stderr",
     "output_type": "stream",
     "text": [
      "Intel(R) Extension for Scikit-learn* enabled (https://github.com/intel/scikit-learn-intelex)\n"
     ]
    },
    {
     "name": "stdout",
     "output_type": "stream",
     "text": [
      "__________________________________________________________________________________\n",
      "name\t\t\ttime\t\tsilhouette\tdavies_bouldin\tcalinski_harabasz\tn_clusters\n",
      "\n",
      "34\n"
     ]
    }
   ],
   "source": [
    "\n",
    "from sklearnex  import  patch_sklearn\n",
    "patch_sklearn ()\n",
    "\n",
    "random_state = np.random.seed(42)\n",
    "\n",
    "som_shape1 = (10,10)\n",
    "som_shape2 = (100,100)\n",
    "som_shape3 = (300,300)\n",
    "print(82 * \"_\")\n",
    "print(\"name\\t\\t\\ttime\\t\\tsilhouette\\tdavies_bouldin\\tcalinski_harabasz\\tn_clusters\\n\")\n",
    "\n",
    "scaler = StandardScaler()\n",
    "X_scaled = scaler.fit_transform(dataset)\n",
    "pca = PCA(n_components = 0.95)\n",
    "X_pca = pca.fit_transform(X_scaled)\n",
    "\n",
    "\n",
    "som = MiniSom(som_shape1[0],som_shape1[1], X_pca.shape[1], random_seed= random_state)\n",
    "bench_marks(som,som_shape1, name=\"som\", data = X_pca)\n",
    "plot_figure(som,som_shape3, X_pca)\n",
    "\n",
    "som = MiniSom(som_shape2[0],som_shape2[1], X_pca.shape[1], random_seed= random_state)\n",
    "bench_marks(som,som_shape2, name=\"som\", data = X_pca)\n",
    "\n",
    "som = MiniSom(som_shape3[0],som_shape3[1], X_pca.shape[1], random_seed= random_state)\n",
    "bench_marks(som,som_shape3, name=\"som\", data = X_pca)\n",
    "    \n",
    "print(82 * \"_\")"
   ]
  }
 ],
 "metadata": {
  "kernelspec": {
   "display_name": "Python 3 (ipykernel)",
   "language": "python",
   "name": "python3"
  },
  "language_info": {
   "codemirror_mode": {
    "name": "ipython",
    "version": 3
   },
   "file_extension": ".py",
   "mimetype": "text/x-python",
   "name": "python",
   "nbconvert_exporter": "python",
   "pygments_lexer": "ipython3",
   "version": "3.8.10"
  }
 },
 "nbformat": 4,
 "nbformat_minor": 5
}
