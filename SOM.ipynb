{
 "cells": [
  {
   "cell_type": "code",
   "execution_count": 1,
   "id": "53fbfe29",
   "metadata": {
    "slideshow": {
     "slide_type": "skip"
    }
   },
   "outputs": [
    {
     "name": "stderr",
     "output_type": "stream",
     "text": [
      "Intel(R) Extension for Scikit-learn* enabled (https://github.com/intel/scikit-learn-intelex)\n"
     ]
    },
    {
     "data": {
      "text/plain": [
       "343880"
      ]
     },
     "execution_count": 1,
     "metadata": {},
     "output_type": "execute_result"
    }
   ],
   "source": [
    "import numpy as np\n",
    "import pandas as pd\n",
    "import sklearn\n",
    "import mglearn\n",
    "from sklearnex  import  patch_sklearn \n",
    "patch_sklearn ()\n",
    "\n",
    "\n",
    "dataset = pd.read_csv('dataset_limpio.csv')\n",
    "dataset = dataset.drop(['Unnamed: 0'], axis=1)\n",
    "\n",
    "dataset.shape[0]"
   ]
  },
  {
   "cell_type": "code",
   "execution_count": 30,
   "id": "dcef4c2a",
   "metadata": {},
   "outputs": [
    {
     "name": "stderr",
     "output_type": "stream",
     "text": [
      "Intel(R) Extension for Scikit-learn* enabled (https://github.com/intel/scikit-learn-intelex)\n"
     ]
    }
   ],
   "source": [
    "from sklearnex  import  patch_sklearn \n",
    "patch_sklearn ()\n",
    "from time import time\n",
    "from sklearn.preprocessing import StandardScaler\n",
    "from sklearn.pipeline import make_pipeline\n",
    "from sklearn.metrics import silhouette_score, davies_bouldin_score, calinski_harabasz_score\n",
    "from sklearn.decomposition import PCA\n",
    "\n",
    "# X = dataset[:100]\n",
    "reduced_data = PCA(n_components = 0.95).fit_transform(dataset)\n",
    "som_shape = (30,30)\n",
    "def bench_marks(algoritm, name):\n",
    "    \n",
    "    t0 = time()\n",
    "    algoritm.train(dataset.values, dataset.shape[0])\n",
    "    \n",
    "    winner_coordinates = np.array([algoritm.winner(x) for x in dataset.values]).T\n",
    "    \n",
    "    cluster_index = np.ravel_multi_index(winner_coordinates, som_shape)\n",
    "    \n",
    "#     winmap = algoritm.win_map(dataset.values)\n",
    "#     default_class = np.sum(list(winmap.values()),dtype=object)\n",
    "#     labels = []\n",
    "#     for d in dataset.values:\n",
    "#         win_position = algoritm.winner(d)\n",
    "#         if win_position in winmap:\n",
    "#             labels.append(winmap[win_position])\n",
    "#         else:\n",
    "#             labels.append(default_class)\n",
    "    \n",
    "#     print(winmap.values())\n",
    "#     print(arr_labels[1])\n",
    "    fit_time = time() - t0\n",
    "    results = [name, fit_time]\n",
    "\n",
    "    results += [silhouette_score(dataset.values, cluster_index, metric = 'euclidean')]\n",
    "    results += [davies_bouldin_score(dataset.values,cluster_index)]\n",
    "    results += [calinski_harabasz_score(dataset.values, cluster_index)]\n",
    "    \n",
    "    n_clusters = len(set(cluster_index)) - (1 if -1 in cluster_index else 0)\n",
    "    results += [n_clusters]\n",
    "    \n",
    "    formatter_result = (\n",
    "        \"{:6s}\\t\\t{:.3f}s\\t{:.3f}\\t\\t{:.3f}\\t\\t{:.2f}\\t\\t{:.0f}\"\n",
    "    )\n",
    "    print(formatter_result.format(*results))"
   ]
  },
  {
   "cell_type": "code",
   "execution_count": 31,
   "id": "9028ce9e",
   "metadata": {},
   "outputs": [
    {
     "name": "stderr",
     "output_type": "stream",
     "text": [
      "Intel(R) Extension for Scikit-learn* enabled (https://github.com/intel/scikit-learn-intelex)\n"
     ]
    },
    {
     "name": "stdout",
     "output_type": "stream",
     "text": [
      "__________________________________________________________________________________\n",
      "init\t\t\ttime\t\tsilhouette\tdavies_bouldin\tcalinski_harabasz\tn_clusters\n",
      "\n",
      "Esto es winner_coordinates:  [29  2 29 ... 28 29 29]\n",
      "Esto es cluster_index:  (343880,)\n"
     ]
    },
    {
     "ename": "NameError",
     "evalue": "name 'winmap' is not defined",
     "output_type": "error",
     "traceback": [
      "\u001b[0;31m---------------------------------------------------------------------------\u001b[0m",
      "\u001b[0;31mNameError\u001b[0m                                 Traceback (most recent call last)",
      "Cell \u001b[0;32mIn [31], line 16\u001b[0m\n\u001b[1;32m     14\u001b[0m     \u001b[38;5;66;03m#SVM\u001b[39;00m\n\u001b[1;32m     15\u001b[0m som \u001b[38;5;241m=\u001b[39m MiniSom(\u001b[38;5;241m30\u001b[39m,\u001b[38;5;241m30\u001b[39m, dataset\u001b[38;5;241m.\u001b[39mshape[\u001b[38;5;241m1\u001b[39m], random_seed\u001b[38;5;241m=\u001b[39m random_state)\n\u001b[0;32m---> 16\u001b[0m bench_marks(som, name\u001b[38;5;241m=\u001b[39m\u001b[38;5;124m\"\u001b[39m\u001b[38;5;124msom\u001b[39m\u001b[38;5;124m\"\u001b[39m)\n\u001b[1;32m     18\u001b[0m \u001b[38;5;28mprint\u001b[39m(\u001b[38;5;241m82\u001b[39m \u001b[38;5;241m*\u001b[39m \u001b[38;5;124m\"\u001b[39m\u001b[38;5;124m_\u001b[39m\u001b[38;5;124m\"\u001b[39m)\n",
      "Cell \u001b[0;32mIn [30], line 38\u001b[0m, in \u001b[0;36mbench_marks\u001b[0;34m(algoritm, name)\u001b[0m\n\u001b[1;32m     35\u001b[0m fit_time \u001b[38;5;241m=\u001b[39m time() \u001b[38;5;241m-\u001b[39m t0\n\u001b[1;32m     36\u001b[0m results \u001b[38;5;241m=\u001b[39m [name, fit_time]\n\u001b[0;32m---> 38\u001b[0m results \u001b[38;5;241m+\u001b[39m\u001b[38;5;241m=\u001b[39m [silhouette_score(dataset\u001b[38;5;241m.\u001b[39mvalues, \u001b[43mwinmap\u001b[49m\u001b[38;5;241m.\u001b[39mvalues(), metric \u001b[38;5;241m=\u001b[39m \u001b[38;5;124m'\u001b[39m\u001b[38;5;124meuclidean\u001b[39m\u001b[38;5;124m'\u001b[39m)]\n\u001b[1;32m     39\u001b[0m results \u001b[38;5;241m+\u001b[39m\u001b[38;5;241m=\u001b[39m [davies_bouldin_score(dataset\u001b[38;5;241m.\u001b[39mvalues,winmap\u001b[38;5;241m.\u001b[39mvalues())]\n\u001b[1;32m     40\u001b[0m results \u001b[38;5;241m+\u001b[39m\u001b[38;5;241m=\u001b[39m [calinski_harabasz_score(dataset\u001b[38;5;241m.\u001b[39mvalues, winmap\u001b[38;5;241m.\u001b[39mvalues())]\n",
      "\u001b[0;31mNameError\u001b[0m: name 'winmap' is not defined"
     ]
    }
   ],
   "source": [
    "# from sklearn_som.som import SOM\n",
    "from minisom import MiniSom\n",
    "from somlearn import SOM\n",
    "import somoclu\n",
    "from sklearnex  import  patch_sklearn\n",
    "patch_sklearn ()\n",
    "\n",
    "random_state = np.random.seed(42)\n",
    "\n",
    "\n",
    "print(82 * \"_\")\n",
    "print(\"init\\t\\t\\ttime\\t\\tsilhouette\\tdavies_bouldin\\tcalinski_harabasz\\tn_clusters\\n\")\n",
    "\n",
    "    #SVM\n",
    "som = MiniSom(30,30, dataset.shape[1], random_seed= random_state)\n",
    "bench_marks(som, name=\"som\")\n",
    "    \n",
    "print(82 * \"_\")"
   ]
  }
 ],
 "metadata": {
  "kernelspec": {
   "display_name": "Python 3 (ipykernel)",
   "language": "python",
   "name": "python3"
  },
  "language_info": {
   "codemirror_mode": {
    "name": "ipython",
    "version": 3
   },
   "file_extension": ".py",
   "mimetype": "text/x-python",
   "name": "python",
   "nbconvert_exporter": "python",
   "pygments_lexer": "ipython3",
   "version": "3.8.10"
  }
 },
 "nbformat": 4,
 "nbformat_minor": 5
}
