{
 "cells": [
  {
   "cell_type": "code",
   "execution_count": 3,
   "id": "9adddc47",
   "metadata": {},
   "outputs": [
    {
     "name": "stderr",
     "output_type": "stream",
     "text": [
      "Intel(R) Extension for Scikit-learn* enabled (https://github.com/intel/scikit-learn-intelex)\n"
     ]
    },
    {
     "data": {
      "text/plain": [
       "array([[4.04500000e+03, 2.00000000e+00, 5.00000000e+00, ...,\n",
       "        1.00000000e+00, 2.79717007e-01, 1.00000000e+00],\n",
       "       [2.84000000e+02, 1.00000000e+00, 1.00000000e+00, ...,\n",
       "        1.00000000e+00, 3.54455658e-01, 1.00000000e+00],\n",
       "       [4.30200000e+03, 2.00000000e+00, 5.00000000e+00, ...,\n",
       "        1.00000000e+00, 2.81260355e-01, 1.00000000e+00],\n",
       "       ...,\n",
       "       [3.73100000e+03, 1.00000000e+00, 3.00000000e+00, ...,\n",
       "        0.00000000e+00, 3.52280885e-01, 1.00000000e+00],\n",
       "       [2.05910000e+04, 0.00000000e+00, 2.00000000e+00, ...,\n",
       "        0.00000000e+00, 3.04800991e-01, 1.00000000e+00],\n",
       "       [3.03900000e+03, 1.00000000e+00, 3.00000000e+00, ...,\n",
       "        0.00000000e+00, 3.43809795e-01, 1.00000000e+00]])"
      ]
     },
     "execution_count": 3,
     "metadata": {},
     "output_type": "execute_result"
    }
   ],
   "source": [
    "import numpy as np\n",
    "import pandas as pd\n",
    "import sklearn\n",
    "import mglearn\n",
    "from sklearnex  import  patch_sklearn \n",
    "patch_sklearn ()\n",
    "\n",
    "\n",
    "dataset = pd.read_csv('dataset_limpio.csv')\n",
    "dataset = dataset.drop(['Unnamed: 0'], axis=1)"
   ]
  },
  {
   "cell_type": "code",
   "execution_count": null,
   "id": "4bd2337c",
   "metadata": {},
   "outputs": [],
   "source": [
    "from sklearnex  import  patch_sklearn \n",
    "patch_sklearn ()\n",
    "from time import time\n",
    "from sklearn.preprocessing import StandardScaler\n",
    "from sklearn.pipeline import make_pipeline\n",
    "from sklearn.metrics import silhouette_score, davies_bouldin_score, calinski_harabasz_score\n",
    "from sklearn.decomposition import PCA\n",
    "from sklearn.neighbors import NearestNeighbors\n",
    "\n",
    "\n",
    "Y = dataset[:50000]\n",
    "reduced_data = PCA(n_components = 0.95).fit_transform(dataset)\n",
    "\n",
    "def bench_marks(algoritm, name):\n",
    "    \n",
    "    t0 = time()\n",
    "    neigh = NearestNeighbors()\n",
    "    neigh.fit(dataset.values)\n",
    "    \n",
    "    X = neigh.radius_neighbors_graph(dataset.values, mode = 'distance')\n",
    "    \n",
    "    print(X)\n",
    "    estimator = make_pipeline(StandardScaler(), algoritm).fit(X)\n",
    "    labels= estimator[-1].labels_\n",
    "        \n",
    "    fit_time = time() - t0\n",
    "    results = [name, fit_time]\n",
    "    \n",
    "    \n",
    "    results += [silhouette_score(X, labels, metric = 'euclidean')]\n",
    "    results += [davies_bouldin_score(X,labels)]\n",
    "    results += [calinski_harabasz_score(X, labels)]\n",
    "    \n",
    "    n_clusters = len(set(labels)) - (1 if -1 in labels else 0)\n",
    "    results += [n_clusters]\n",
    "    \n",
    "    formatter_result = (\n",
    "        \"{:6s}\\t\\t{:.3f}s\\t{:.3f}\\t\\t{:.3f}\\t\\t{:.2f}\\t\\t{:.0f}\"\n",
    "    )\n",
    "    print(formatter_result.format(*results))"
   ]
  },
  {
   "cell_type": "code",
   "execution_count": null,
   "id": "62a2d286",
   "metadata": {},
   "outputs": [],
   "source": [
    "from sklearn.cluster import DBSCAN\n",
    "\n",
    "from sklearnex  import  patch_sklearn \n",
    "patch_sklearn ()\n",
    "\n",
    "\n",
    "print(82 * \"_\")\n",
    "print(\"init\\t\\t\\ttime\\t\\tsilhouette\\tdavies_bouldin\\tcalinski_harabasz\\tn_clusters\\n\")\n",
    "\n",
    "\n",
    "# db = DBSCAN(eps = 10, min_samples = 50)\n",
    "# bench_marks(db,name = \"db\")\n",
    "\n",
    "# db = DBSCAN(eps = 100, min_samples = 50)\n",
    "# bench_marks(db,name = \"db\")\n",
    "\n",
    "db = DBSCAN(eps = 0.00001, min_samples = 300000, metric = 'precomputed',  n_jobs = -1)\n",
    "bench_marks(db,name = \"db\")\n",
    "\n",
    "\n",
    "# db = DBSCAN(eps = 10, min_samples = 4000) #con estos parametros salen 8 clusters pero un score de -0.395a silhouette y 1.791 davies\n",
    "# bench_marks(db, name=\"db\")\n",
    "\n",
    "print(82 * \"_\")"
   ]
  },
  {
   "cell_type": "code",
   "execution_count": null,
   "id": "32c4f381",
   "metadata": {},
   "outputs": [],
   "source": []
  }
 ],
 "metadata": {
  "kernelspec": {
   "display_name": "Python 3 (ipykernel)",
   "language": "python",
   "name": "python3"
  },
  "language_info": {
   "codemirror_mode": {
    "name": "ipython",
    "version": 3
   },
   "file_extension": ".py",
   "mimetype": "text/x-python",
   "name": "python",
   "nbconvert_exporter": "python",
   "pygments_lexer": "ipython3",
   "version": "3.8.10"
  }
 },
 "nbformat": 4,
 "nbformat_minor": 5
}
