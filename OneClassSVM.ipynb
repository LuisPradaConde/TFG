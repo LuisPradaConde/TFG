{
 "cells": [
  {
   "cell_type": "code",
   "execution_count": 2,
   "id": "27a23efe",
   "metadata": {},
   "outputs": [
    {
     "name": "stderr",
     "output_type": "stream",
     "text": [
      "Intel(R) Extension for Scikit-learn* enabled (https://github.com/intel/scikit-learn-intelex)\n"
     ]
    }
   ],
   "source": [
    "import numpy as np\n",
    "import pandas as pd\n",
    "import sklearn\n",
    "import mglearn\n",
    "from sklearnex  import  patch_sklearn \n",
    "patch_sklearn ()\n",
    "\n",
    "\n",
    "dataset = pd.read_csv('dataset_limpio.csv')\n",
    "dataset = dataset.drop(['Unnamed: 0'], axis=1)"
   ]
  },
  {
   "cell_type": "code",
   "execution_count": 9,
   "id": "12dc817e",
   "metadata": {},
   "outputs": [
    {
     "name": "stderr",
     "output_type": "stream",
     "text": [
      "Intel(R) Extension for Scikit-learn* enabled (https://github.com/intel/scikit-learn-intelex)\n"
     ]
    }
   ],
   "source": [
    "from sklearnex  import  patch_sklearn \n",
    "patch_sklearn ()\n",
    "from time import time\n",
    "from sklearn.preprocessing import StandardScaler\n",
    "from sklearn.pipeline import make_pipeline\n",
    "from sklearn.metrics import silhouette_score, davies_bouldin_score, calinski_harabasz_score\n",
    "from sklearn.decomposition import PCA\n",
    "\n",
    "X = dataset[:10000]\n",
    "reduced_data = PCA(n_components = 0.95).fit_transform(dataset)\n",
    "def bench_marks(algoritm, name):\n",
    "    \n",
    "    t0 = time()\n",
    "    estimator = make_pipeline(StandardScaler(), algoritm).fit(reduced_data)\n",
    "    labels= estimator[-1].predict(reduced_data)\n",
    "        \n",
    "   \n",
    "    fit_time = time() - t0\n",
    "    results = [name, fit_time]\n",
    "\n",
    "\n",
    "    results += [davies_bouldin_score(reduced_data,labels)]\n",
    "    results += [calinski_harabasz_score(reduced_data, labels)]\n",
    "    results += [silhouette_score(reduced_data, labels, metric = 'euclidean')]\n",
    "    \n",
    "    n_clusters = len(set(labels)) - (1 if -1 in labels else 0)\n",
    "    results += [n_clusters]\n",
    "    \n",
    "    formatter_result = (\n",
    "        \"{:5s}\\t\\t{:.3f}s\\t{:.3f}\\t\\t\\t{:.2f}\\t{:.3f}\\t\\t{:.0f}\"\n",
    "    )\n",
    "    print(formatter_result.format(*results))"
   ]
  },
  {
   "cell_type": "code",
   "execution_count": null,
   "id": "ef36a82c",
   "metadata": {},
   "outputs": [
    {
     "name": "stderr",
     "output_type": "stream",
     "text": [
      "Intel(R) Extension for Scikit-learn* enabled (https://github.com/intel/scikit-learn-intelex)\n"
     ]
    },
    {
     "name": "stdout",
     "output_type": "stream",
     "text": [
      "__________________________________________________________________________________\n",
      "init\t\t\ttime\t\tsilhouette\tdavies_bouldin\tcalinski_harabasz\tn_clusters\n",
      "\n"
     ]
    }
   ],
   "source": [
    "from sklearn.svm import OneClassSVM\n",
    "from sklearnex  import  patch_sklearn \n",
    "patch_sklearn ()\n",
    "\n",
    "\n",
    "print(82 * \"_\")\n",
    "print(\"init\\t\\t\\ttime\\t\\tsilhouette\\tdavies_bouldin\\tcalinski_harabasz\\tn_clusters\\n\")\n",
    "\n",
    "    #SVM\n",
    "# svm = OneClassSVM(kernel='linear',gamma='auto')\n",
    "# bench_marks(svm, name = \"svm linear auto\")\n",
    "svm = OneClassSVM(kernel='linear',gamma='scale', nu = 1)\n",
    "bench_marks(svm, name = \"svm linear scale\")\n",
    "\n",
    "# svm = OneClassSVM(kernel='poly',gamma='auto')\n",
    "# bench_marks(svm, name = \"svm poly auto\")\n",
    "svm = OneClassSVM(kernel='poly',gamma='scale', nu = 1)\n",
    "bench_marks(svm, name = \"svm poly scale\")\n",
    "\n",
    "# svm = OneClassSVM(kernel='sigmoid',gamma='auto')\n",
    "# bench_marks(svm, name = \"svm sigmoid auto\")\n",
    "svm = OneClassSVM(kernel='sigmoid',gamma='scale', nu=1)\n",
    "bench_marks(svm, name = \"svm sigmoid scale\")\n",
    "    \n",
    "print(82 * \"_\")"
   ]
  }
 ],
 "metadata": {
  "kernelspec": {
   "display_name": "Python 3 (ipykernel)",
   "language": "python",
   "name": "python3"
  },
  "language_info": {
   "codemirror_mode": {
    "name": "ipython",
    "version": 3
   },
   "file_extension": ".py",
   "mimetype": "text/x-python",
   "name": "python",
   "nbconvert_exporter": "python",
   "pygments_lexer": "ipython3",
   "version": "3.8.10"
  }
 },
 "nbformat": 4,
 "nbformat_minor": 5
}
