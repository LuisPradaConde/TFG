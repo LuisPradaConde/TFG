{
 "cells": [
  {
   "cell_type": "code",
   "execution_count": 1,
   "id": "0a5fddaa",
   "metadata": {},
   "outputs": [
    {
     "name": "stderr",
     "output_type": "stream",
     "text": [
      "Intel(R) Extension for Scikit-learn* enabled (https://github.com/intel/scikit-learn-intelex)\n"
     ]
    }
   ],
   "source": [
    "import numpy as np\n",
    "import pandas as pd\n",
    "import sklearn\n",
    "import mglearn\n",
    "from sklearnex  import  patch_sklearn \n",
    "patch_sklearn ()\n",
    "\n",
    "\n",
    "dataset = pd.read_csv('dataset_limpio.csv')\n",
    "dataset = dataset.drop(['Unnamed: 0'], axis=1)"
   ]
  },
  {
   "cell_type": "code",
   "execution_count": 2,
   "id": "e92bfa5e",
   "metadata": {},
   "outputs": [
    {
     "name": "stderr",
     "output_type": "stream",
     "text": [
      "Intel(R) Extension for Scikit-learn* enabled (https://github.com/intel/scikit-learn-intelex)\n"
     ]
    }
   ],
   "source": [
    "from sklearnex  import  patch_sklearn \n",
    "patch_sklearn ()\n",
    "from time import time\n",
    "from sklearn.preprocessing import StandardScaler\n",
    "from sklearn.metrics import silhouette_score, davies_bouldin_score, calinski_harabasz_score\n",
    "from sklearn.decomposition import PCA\n",
    "import matplotlib.pyplot as plt\n",
    "import warnings\n",
    "\n",
    "def plot_figure(data, labels):\n",
    "    \n",
    "\n",
    "    \n",
    "    plt.figure(figsize=(8, 5))\n",
    "    plt.scatter(data[:,0], data[:,1], c=labels, linewidths= 0.01, edgecolors='k')\n",
    "    \n",
    "    plt.savefig(\"spectral.pdf\")\n",
    "\n",
    "\n",
    "def bench_marks(algoritm, name, data):\n",
    "    \n",
    "\n",
    "    t0 = time()\n",
    "    with warnings.catch_warnings():\n",
    "        warnings.filterwarnings(\n",
    "            \"ignore\",\n",
    "            message=\"Graph is not fully connected, spectral embedding\"\n",
    "            + \" may not work as expected.\",\n",
    "            category=UserWarning,\n",
    "        )\n",
    "        estimator = algoritm.fit(data)\n",
    "    labels= estimator.labels_\n",
    "    fit_time = time() - t0    \n",
    "\n",
    "    results = [name, fit_time]\n",
    "\n",
    "    results += [silhouette_score(data, labels, metric = 'euclidean')]\n",
    "    results += [davies_bouldin_score(data,labels)]\n",
    "    results += [calinski_harabasz_score(data, labels)]\n",
    "    \n",
    "    n_clusters = len(set(labels)) - (1 if -1 in labels else 0)\n",
    "    results += [n_clusters]\n",
    "    \n",
    "    formatter_result = (\n",
    "        \"{:5s}\\t\\t{:.3f}s\\t\\t{:.3f}\\t{:.3f}\\t\\t{:.2f}\\t\\t{:.0f}\"\n",
    "    )\n",
    "    print(formatter_result.format(*results))\n",
    "    \n"
   ]
  },
  {
   "cell_type": "code",
   "execution_count": null,
   "id": "d80efe95",
   "metadata": {},
   "outputs": [
    {
     "name": "stderr",
     "output_type": "stream",
     "text": [
      "Intel(R) Extension for Scikit-learn* enabled (https://github.com/intel/scikit-learn-intelex)\n"
     ]
    },
    {
     "name": "stdout",
     "output_type": "stream",
     "text": [
      "__________________________________________________________________________________\n",
      "assign_labels\t\t\ttime\t\tsilhouette\tdavies_bouldin\tcalinski_harabasz\tn_clusters\n",
      "\n"
     ]
    }
   ],
   "source": [
    "from sklearn.cluster import SpectralClustering\n",
    "from sklearnex  import  patch_sklearn \n",
    "patch_sklearn ()\n",
    "\n",
    "random_state = np.random.seed(42)\n",
    "n_clusters = [2, 3]\n",
    "print(82 * \"_\")\n",
    "print(\"assign_labels\\t\\t\\ttime\\t\\tsilhouette\\tdavies_bouldin\\tcalinski_harabasz\\tn_clusters\\n\")\n",
    "\n",
    "scaler = StandardScaler()\n",
    "X_scaled = scaler.fit_transform(dataset)\n",
    "pca = PCA(n_components = 0.95)\n",
    "X_pca = pca.fit_transform(X_scaled)\n",
    "\n",
    "for i in n_clusters:\n",
    "    spectralDiscretize = SpectralClustering(n_clusters = i, assign_labels = 'discretize', affinity = 'nearest_neighbors', random_state = random_state, n_jobs = -1, eigen_solver = 'amg', n_neighbors = 2)\n",
    "    bench_marks(spectralDiscretize, name=\"discretize\", data = X_pca)\n",
    "\n",
    "    spectralcluster_qr = SpectralClustering(n_clusters = i, assign_labels = 'cluster_qr', affinity = 'nearest_neighbors', random_state = random_state, n_jobs = -1, eigen_solver = 'amg', n_neighbors = 2)\n",
    "    bench_marks(spectralcluster_qr, name=\"cluster_qr\", data = X_pca)\n",
    "\n",
    "    spectralkmeans = SpectralClustering(n_clusters = i, assign_labels = 'kmeans', affinity = 'nearest_neighbors', random_state = random_state, n_jobs=-1, eigen_solver = 'amg', n_neighbors = 2)\n",
    "    bench_marks(spectralkmeans, name=\"kmeans\", data = X_pca)\n",
    "\n",
    "estimator = spectralkmeans.fit(X_pca)\n",
    "labels= estimator.labels_\n",
    "plot_figure(X_pca, labels)\n",
    "\n",
    "\n",
    "print(82 * \"_\")"
   ]
  },
  {
   "cell_type": "code",
   "execution_count": null,
   "id": "1151b6a5",
   "metadata": {},
   "outputs": [],
   "source": []
  }
 ],
 "metadata": {
  "kernelspec": {
   "display_name": "Python 3 (ipykernel)",
   "language": "python",
   "name": "python3"
  },
  "language_info": {
   "codemirror_mode": {
    "name": "ipython",
    "version": 3
   },
   "file_extension": ".py",
   "mimetype": "text/x-python",
   "name": "python",
   "nbconvert_exporter": "python",
   "pygments_lexer": "ipython3",
   "version": "3.8.10"
  }
 },
 "nbformat": 4,
 "nbformat_minor": 5
}
