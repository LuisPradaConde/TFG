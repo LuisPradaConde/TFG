{
 "cells": [
  {
   "cell_type": "code",
   "execution_count": 1,
   "id": "95a81c81",
   "metadata": {},
   "outputs": [
    {
     "name": "stderr",
     "output_type": "stream",
     "text": [
      "Intel(R) Extension for Scikit-learn* enabled (https://github.com/intel/scikit-learn-intelex)\n"
     ]
    }
   ],
   "source": [
    "import numpy as np\n",
    "import pandas as pd\n",
    "import sklearn\n",
    "import mglearn\n",
    "from sklearnex  import  patch_sklearn \n",
    "patch_sklearn ()\n",
    "\n",
    "\n",
    "dataset = pd.read_csv('dataset_limpio.csv')\n",
    "dataset = dataset.drop(['Unnamed: 0'], axis=1)\n"
   ]
  },
  {
   "cell_type": "code",
   "execution_count": 2,
   "id": "7672b088",
   "metadata": {},
   "outputs": [
    {
     "name": "stderr",
     "output_type": "stream",
     "text": [
      "Intel(R) Extension for Scikit-learn* enabled (https://github.com/intel/scikit-learn-intelex)\n"
     ]
    }
   ],
   "source": [
    "from sklearnex  import  patch_sklearn \n",
    "patch_sklearn ()\n",
    "from time import time\n",
    "from sklearn.preprocessing import StandardScaler\n",
    "from sklearn.metrics import silhouette_score, davies_bouldin_score, calinski_harabasz_score\n",
    "from sklearn.decomposition import PCA\n",
    "import matplotlib.pyplot as plt\n",
    "from sklearn.metrics.pairwise import pairwise_distances_argmin\n",
    "\n",
    "\n",
    "def plot_figure(algoritm, data):\n",
    "    \n",
    "    estimator = algoritm.fit(data)\n",
    "    labels= estimator.labels_\n",
    "\n",
    "    \n",
    "    \n",
    "    k_means_cluster_centers = algoritm.cluster_centers_\n",
    "    k_means_labels = pairwise_distances_argmin(data, k_means_cluster_centers)\n",
    "    n_clusters = len(set(labels)) - (1 if -1 in labels else 0)\n",
    "    colors = [\"#4EACC5\", \"#FF9C34\", \"#4E9A06\"]\n",
    "    for k, col in zip(range(n_clusters), colors):\n",
    "        my_members = k_means_labels == k\n",
    "        cluster_center = k_means_cluster_centers[k]\n",
    "        plt.plot(\n",
    "            data[my_members, 0], \n",
    "            data[my_members, 1],\n",
    "            \"w\",\n",
    "            markerfacecolor=col,\n",
    "            markeredgecolor = \"k\",\n",
    "            marker=\"o\",\n",
    "            markersize=4,)\n",
    "        plt.plot(\n",
    "            cluster_center[0],\n",
    "            cluster_center[1],\n",
    "            \"*\",\n",
    "            markerfacecolor=col,\n",
    "            markeredgecolor=\"w\",\n",
    "            markersize=8,\n",
    "        )\n",
    "\n",
    "\n",
    "def bench_marks(algoritm, name, data):\n",
    "    \n",
    "    t0 = time()\n",
    "    \n",
    "    estimator = algoritm.fit(dataset)\n",
    "    labels= estimator.labels_\n",
    "    \n",
    "    fit_time = time() - t0\n",
    "    results = [name, fit_time, estimator.inertia_]\n",
    "    results += []\n",
    "\n",
    "    results += [silhouette_score(dataset, labels, metric = 'euclidean')]\n",
    "    results += [davies_bouldin_score(dataset,labels)]\n",
    "    results += [calinski_harabasz_score(dataset, labels)]\n",
    "    \n",
    "    n_clusters = len(set(labels)) - (1 if -1 in labels else 0)\n",
    "    results += [n_clusters]\n",
    "    \n",
    "    formatter_result = (\n",
    "        \"{:8s}\\t\\t{:.3f}s\\t{:.0f}\\t{:.3f}\\t\\t{:.3f}\\t\\t{:.2f}\\t\\t{:.0f}\"\n",
    "    )\n",
    "    print(formatter_result.format(*results))"
   ]
  },
  {
   "cell_type": "code",
   "execution_count": null,
   "id": "ef56a250",
   "metadata": {},
   "outputs": [
    {
     "name": "stderr",
     "output_type": "stream",
     "text": [
      "Intel(R) Extension for Scikit-learn* enabled (https://github.com/intel/scikit-learn-intelex)\n"
     ]
    },
    {
     "name": "stdout",
     "output_type": "stream",
     "text": [
      "__________________________________________________________________________________\n",
      "init\t\t\ttime\tinertia\t\tsilhouette\tdavies_bouldin\tcalinski_harabasz\tn_clusters\n",
      "\n"
     ]
    }
   ],
   "source": [
    "from sklearn.cluster import KMeans\n",
    "from sklearnex  import  patch_sklearn \n",
    "patch_sklearn ()\n",
    "\n",
    "\n",
    "print(82 * \"_\")\n",
    "print(\"init\\t\\t\\ttime\\tinertia\\t\\tsilhouette\\tdavies_bouldin\\tcalinski_harabasz\\tn_clusters\\n\")\n",
    "\n",
    "n_clusters = [2, 3, 4, 5]\n",
    "random_state = np.random.seed(42)\n",
    "\n",
    "scaler = StandardScaler()\n",
    "X_scaled = scaler.fit_transform(dataset)\n",
    "pca = PCA(n_components = 0.95)\n",
    "X_pca = pca.fit_transform(X_scaled)\n",
    "\n",
    "for i in n_clusters:\n",
    "    \n",
    "#     #kmeans\n",
    "    kmeans = KMeans(init=\"random\", n_clusters= i, random_state=random_state)\n",
    "    bench_marks(kmeans, name=\"random\", data = X_pca)\n",
    "    kmeans = KMeans(init=\"k-means++\", n_clusters= i, random_state=random_state)\n",
    "    bench_marks(kmeans, name=\"k-means++\", data = X_pca)\n",
    "\n",
    "    \n",
    "# print(82 * \"_\")\n",
    "kmeans = KMeans(init=\"k-means++\", n_clusters= 2, random_state=random_state)\n",
    "plot_figure(kmeans, X_pca)"
   ]
  },
  {
   "cell_type": "code",
   "execution_count": null,
   "id": "719aa215",
   "metadata": {},
   "outputs": [],
   "source": []
  }
 ],
 "metadata": {
  "kernelspec": {
   "display_name": "Python 3 (ipykernel)",
   "language": "python",
   "name": "python3"
  },
  "language_info": {
   "codemirror_mode": {
    "name": "ipython",
    "version": 3
   },
   "file_extension": ".py",
   "mimetype": "text/x-python",
   "name": "python",
   "nbconvert_exporter": "python",
   "pygments_lexer": "ipython3",
   "version": "3.8.10"
  }
 },
 "nbformat": 4,
 "nbformat_minor": 5
}
