{
 "cells": [
  {
   "cell_type": "code",
   "execution_count": 1,
   "id": "95a81c81",
   "metadata": {},
   "outputs": [
    {
     "name": "stderr",
     "output_type": "stream",
     "text": [
      "Intel(R) Extension for Scikit-learn* enabled (https://github.com/intel/scikit-learn-intelex)\n"
     ]
    }
   ],
   "source": [
    "import numpy as np\n",
    "import pandas as pd\n",
    "import sklearn\n",
    "import mglearn\n",
    "from sklearnex  import  patch_sklearn \n",
    "patch_sklearn ()\n",
    "\n",
    "\n",
    "dataset = pd.read_csv('dataset_limpio.csv')\n",
    "dataset = dataset.drop(['Unnamed: 0'], axis=1)"
   ]
  },
  {
   "cell_type": "code",
   "execution_count": 2,
   "id": "7672b088",
   "metadata": {},
   "outputs": [
    {
     "name": "stderr",
     "output_type": "stream",
     "text": [
      "Intel(R) Extension for Scikit-learn* enabled (https://github.com/intel/scikit-learn-intelex)\n"
     ]
    },
    {
     "name": "stdout",
     "output_type": "stream",
     "text": [
      "(343880, 2)\n"
     ]
    }
   ],
   "source": [
    "from sklearnex  import  patch_sklearn \n",
    "patch_sklearn ()\n",
    "from time import time\n",
    "from sklearn.preprocessing import StandardScaler\n",
    "from sklearn.pipeline import make_pipeline\n",
    "from sklearn.metrics import silhouette_score, davies_bouldin_score, calinski_harabasz_score\n",
    "from sklearn.decomposition import PCA\n",
    "\n",
    "reduced_data = PCA(n_components = 0.95).fit_transform(dataset)\n",
    "print(reduced_data.shape)\n",
    "def bench_marks(algoritm, name):\n",
    "    \n",
    "    t0 = time()\n",
    "    estimator = make_pipeline(StandardScaler(), algoritm).fit(reduced_data)\n",
    "    labels= estimator[-1].labels_\n",
    "    \n",
    "    fit_time = time() - t0\n",
    "    results = [name, fit_time, estimator[-1].inertia_]\n",
    "    results += []\n",
    "\n",
    "    results += [silhouette_score(reduced_data, labels, metric = 'euclidean')]\n",
    "    results += [davies_bouldin_score(reduced_data,labels)]\n",
    "    results += [calinski_harabasz_score(reduced_data, labels)]\n",
    "    \n",
    "    n_clusters = len(set(labels)) - (1 if -1 in labels else 0)\n",
    "    results += [n_clusters]\n",
    "    \n",
    "    formatter_result = (\n",
    "        \"{:8s}\\t\\t{:.3f}s\\t{:.0f}\\t{:.3f}\\t\\t{:.3f}\\t\\t{:.2f}\\t\\t{:.0f}\"\n",
    "    )\n",
    "    print(formatter_result.format(*results))"
   ]
  },
  {
   "cell_type": "code",
   "execution_count": null,
   "id": "ef56a250",
   "metadata": {},
   "outputs": [
    {
     "name": "stderr",
     "output_type": "stream",
     "text": [
      "Intel(R) Extension for Scikit-learn* enabled (https://github.com/intel/scikit-learn-intelex)\n"
     ]
    },
    {
     "name": "stdout",
     "output_type": "stream",
     "text": [
      "__________________________________________________________________________________\n",
      "init\t\t\ttime\tinertia\t\tsilhouette\tdavies_bouldin\tcalinski_harabasz\tn_clusters\n",
      "\n",
      "(343880,)\n"
     ]
    }
   ],
   "source": [
    "from sklearn.cluster import KMeans\n",
    "from sklearnex  import  patch_sklearn \n",
    "patch_sklearn ()\n",
    "\n",
    "\n",
    "print(82 * \"_\")\n",
    "print(\"init\\t\\t\\ttime\\tinertia\\t\\tsilhouette\\tdavies_bouldin\\tcalinski_harabasz\\tn_clusters\\n\")\n",
    "\n",
    "n_clusters = [2, 3, 4, 5]\n",
    "random_state = np.random.seed(42)\n",
    "\n",
    "for i in n_clusters:\n",
    "    \n",
    "#     #kmeans\n",
    "    kmeans = KMeans(init=\"random\", n_clusters= 2, random_state=random_state)\n",
    "    bench_marks(kmeans, name=\"random\")\n",
    "    kmeans = KMeans(init=\"k-means++\", n_clusters= 2, random_state=random_state)\n",
    "    bench_marks(kmeans, name=\"k-means++\")\n",
    "\n",
    "    \n",
    "print(82 * \"_\")"
   ]
  },
  {
   "cell_type": "code",
   "execution_count": null,
   "id": "719aa215",
   "metadata": {},
   "outputs": [],
   "source": []
  }
 ],
 "metadata": {
  "kernelspec": {
   "display_name": "Python 3 (ipykernel)",
   "language": "python",
   "name": "python3"
  },
  "language_info": {
   "codemirror_mode": {
    "name": "ipython",
    "version": 3
   },
   "file_extension": ".py",
   "mimetype": "text/x-python",
   "name": "python",
   "nbconvert_exporter": "python",
   "pygments_lexer": "ipython3",
   "version": "3.8.10"
  }
 },
 "nbformat": 4,
 "nbformat_minor": 5
}
